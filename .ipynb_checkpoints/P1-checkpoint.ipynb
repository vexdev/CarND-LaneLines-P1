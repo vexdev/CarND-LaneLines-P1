{
 "cells": [
  {
   "cell_type": "markdown",
   "metadata": {},
   "source": [
    "# Self-Driving Car Engineer Nanodegree\n",
    "\n",
    "\n",
    "## Project: **Finding Lane Lines on the Road** \n",
    "***\n",
    "In this project, you will use the tools you learned about in the lesson to identify lane lines on the road.  You can develop your pipeline on a series of individual images, and later apply the result to a video stream (really just a series of images). Check out the video clip \"raw-lines-example.mp4\" (also contained in this repository) to see what the output should look like after using the helper functions below. \n",
    "\n",
    "Once you have a result that looks roughly like \"raw-lines-example.mp4\", you'll need to get creative and try to average and/or extrapolate the line segments you've detected to map out the full extent of the lane lines.  You can see an example of the result you're going for in the video \"P1_example.mp4\".  Ultimately, you would like to draw just one line for the left side of the lane, and one for the right.\n",
    "\n",
    "In addition to implementing code, there is a brief writeup to complete. The writeup should be completed in a separate file, which can be either a markdown file or a pdf document. There is a [write up template](https://github.com/udacity/CarND-LaneLines-P1/blob/master/writeup_template.md) that can be used to guide the writing process. Completing both the code in the Ipython notebook and the writeup template will cover all of the [rubric points](https://review.udacity.com/#!/rubrics/322/view) for this project.\n",
    "\n",
    "---\n",
    "Let's have a look at our first image called 'test_images/solidWhiteRight.jpg'.  Run the 2 cells below (hit Shift-Enter or the \"play\" button above) to display the image.\n",
    "\n",
    "**Note: If, at any point, you encounter frozen display windows or other confounding issues, you can always start again with a clean slate by going to the \"Kernel\" menu above and selecting \"Restart & Clear Output\".**\n",
    "\n",
    "---"
   ]
  },
  {
   "cell_type": "markdown",
   "metadata": {},
   "source": [
    "**The tools you have are color selection, region of interest selection, grayscaling, Gaussian smoothing, Canny Edge Detection and Hough Tranform line detection.  You  are also free to explore and try other techniques that were not presented in the lesson.  Your goal is piece together a pipeline to detect the line segments in the image, then average/extrapolate them and draw them onto the image for display (as below).  Once you have a working pipeline, try it out on the video stream below.**\n",
    "\n",
    "---\n",
    "\n",
    "<figure>\n",
    " <img src=\"examples/line-segments-example.jpg\" width=\"380\" alt=\"Combined Image\" />\n",
    " <figcaption>\n",
    " <p></p> \n",
    " <p style=\"text-align: center;\"> Your output should look something like this (above) after detecting line segments using the helper functions below </p> \n",
    " </figcaption>\n",
    "</figure>\n",
    " <p></p> \n",
    "<figure>\n",
    " <img src=\"examples/laneLines_thirdPass.jpg\" width=\"380\" alt=\"Combined Image\" />\n",
    " <figcaption>\n",
    " <p></p> \n",
    " <p style=\"text-align: center;\"> Your goal is to connect/average/extrapolate line segments to get output like this</p> \n",
    " </figcaption>\n",
    "</figure>"
   ]
  },
  {
   "cell_type": "markdown",
   "metadata": {},
   "source": [
    "**Run the cell below to import some packages.  If you get an `import error` for a package you've already installed, try changing your kernel (select the Kernel menu above --> Change Kernel).  Still have problems?  Try relaunching Jupyter Notebook from the terminal prompt.  Also, consult the forums for more troubleshooting tips.**  "
   ]
  },
  {
   "cell_type": "markdown",
   "metadata": {},
   "source": [
    "## Import Packages"
   ]
  },
  {
   "cell_type": "code",
   "execution_count": null,
   "metadata": {},
   "outputs": [],
   "source": []
  },
  {
   "cell_type": "markdown",
   "metadata": {},
   "source": [
    "## Read in an Image"
   ]
  },
  {
   "cell_type": "code",
   "execution_count": null,
   "metadata": {},
   "outputs": [],
   "source": []
  },
  {
   "cell_type": "markdown",
   "metadata": {},
   "source": [
    "## Ideas for Lane Detection Pipeline"
   ]
  },
  {
   "cell_type": "markdown",
   "metadata": {},
   "source": [
    "**Some OpenCV functions (beyond those introduced in the lesson) that might be useful for this project are:**\n",
    "\n",
    "`cv2.inRange()` for color selection  \n",
    "`cv2.fillPoly()` for regions selection  \n",
    "`cv2.line()` to draw lines on an image given endpoints  \n",
    "`cv2.addWeighted()` to coadd / overlay two images\n",
    "`cv2.cvtColor()` to grayscale or change color\n",
    "`cv2.imwrite()` to output images to file  \n",
    "`cv2.bitwise_and()` to apply a mask to an image\n",
    "\n",
    "**Check out the OpenCV documentation to learn about these and discover even more awesome functionality!**"
   ]
  },
  {
   "cell_type": "markdown",
   "metadata": {},
   "source": [
    "## Helper Functions"
   ]
  },
  {
   "cell_type": "markdown",
   "metadata": {},
   "source": [
    "Below are some helper functions to help get you started. They should look familiar from the lesson!"
   ]
  },
  {
   "cell_type": "code",
   "execution_count": null,
   "metadata": {
    "collapsed": true
   },
   "outputs": [],
   "source": []
  },
  {
   "cell_type": "markdown",
   "metadata": {},
   "source": [
    "## Test Images\n",
    "\n",
    "Build your pipeline to work on the images in the directory \"test_images\"  \n",
    "**You should make sure your pipeline works well on these images before you try the videos.**"
   ]
  },
  {
   "cell_type": "code",
   "execution_count": null,
   "metadata": {},
   "outputs": [],
   "source": []
  },
  {
   "cell_type": "markdown",
   "metadata": {},
   "source": [
    "## Build a Lane Finding Pipeline\n",
    "\n"
   ]
  },
  {
   "cell_type": "markdown",
   "metadata": {},
   "source": [
    "Build the pipeline and run your solution on all test_images. Make copies into the `test_images_output` directory, and you can use the images in your writeup report.\n",
    "\n",
    "Try tuning the various parameters, especially the low and high Canny thresholds as well as the Hough lines parameters."
   ]
  },
  {
   "cell_type": "code",
   "execution_count": null,
   "metadata": {
    "collapsed": true
   },
   "outputs": [],
   "source": []
  },
  {
   "cell_type": "markdown",
   "metadata": {},
   "source": [
    "## Test on Videos\n",
    "\n",
    "You know what's cooler than drawing lanes over images? Drawing lanes over video!\n",
    "\n",
    "We can test our solution on two provided videos:\n",
    "\n",
    "`solidWhiteRight.mp4`\n",
    "\n",
    "`solidYellowLeft.mp4`\n",
    "\n",
    "**Note: if you get an import error when you run the next cell, try changing your kernel (select the Kernel menu above --> Change Kernel). Still have problems? Try relaunching Jupyter Notebook from the terminal prompt. Also, consult the forums for more troubleshooting tips.**\n",
    "\n",
    "**If you get an error that looks like this:**\n",
    "```\n",
    "NeedDownloadError: Need ffmpeg exe. \n",
    "You can download it by calling: \n",
    "imageio.plugins.ffmpeg.download()\n",
    "```\n",
    "**Follow the instructions in the error message and check out [this forum post](https://discussions.udacity.com/t/project-error-of-test-on-videos/274082) for more troubleshooting tips across operating systems.**"
   ]
  },
  {
   "cell_type": "code",
   "execution_count": null,
   "metadata": {
    "collapsed": true
   },
   "outputs": [],
   "source": []
  },
  {
   "cell_type": "code",
   "execution_count": null,
   "metadata": {
    "collapsed": true
   },
   "outputs": [],
   "source": []
  },
  {
   "cell_type": "markdown",
   "metadata": {},
   "source": [
    "Let's try the one with the solid white lane on the right first ..."
   ]
  },
  {
   "cell_type": "code",
   "execution_count": null,
   "metadata": {},
   "outputs": [],
   "source": [
    "import numpy as np\n",
    "import cv2\n",
    "\n",
    "\n",
    "def region_of_interest(img, vertices):\n",
    "    # defining a blank mask to start with\n",
    "    mask = np.zeros_like(img)\n",
    "\n",
    "    # filling pixels inside the polygon defined by \"vertices\" with the fill color\n",
    "    cv2.fillPoly(mask, vertices, 255)\n",
    "\n",
    "    # returning the image only where mask pixels are nonzero\n",
    "    return cv2.bitwise_and(img, mask)\n",
    "\n",
    "\n",
    "def find_x(y, q, m):\n",
    "    return int((y - q) / (m if m != 0 else 1))\n",
    "\n",
    "\n",
    "Turn = 0\n",
    "LeftQList = []\n",
    "LeftMList = []\n",
    "RightQList = []\n",
    "RightMList = []\n",
    "MaxMeanValues = 5\n",
    "\n",
    "\n",
    "def draw_lines(img, lines, color=[255, 0, 0], thickness=5):\n",
    "    global Turn\n",
    "    global LeftQList\n",
    "    global LeftMList\n",
    "    global RightQList\n",
    "    global RightMList\n",
    "\n",
    "    # Find the slopes and a sample point\n",
    "    left_m_list = []\n",
    "    right_m_list = []\n",
    "    left_weights = []\n",
    "    # Knowing y=mx+q we can find q given the sample point and the slope\n",
    "    left_q_list = []\n",
    "    right_q_list = []\n",
    "    right_weights = []\n",
    "    for line in lines:\n",
    "        for x1, y1, x2, y2 in line:\n",
    "            # Left line has positive slope, Right line has negative.\n",
    "            if x2 - x1 != 0:\n",
    "                slope = ((y2 - y1) / (x2 - x1))\n",
    "                if slope > 0:\n",
    "                    left_m_list.append(slope)\n",
    "                    left_q_list.append(y1 - (slope * x1))\n",
    "                    left_weights.append(y2 - y1)\n",
    "                else:\n",
    "                    right_m_list.append(slope)\n",
    "                    right_q_list.append(y1 - (slope * x1))\n",
    "                    right_weights.append(y2 - y1)\n",
    "\n",
    "    # Find the average left and right slope and quote\n",
    "    left_m = np.average(left_m_list, weights=left_weights)\n",
    "    left_q = np.average(left_q_list, weights=left_weights)\n",
    "    right_m = np.average(right_m_list, weights=right_weights)\n",
    "    right_q = np.average(right_q_list, weights=right_weights)\n",
    "\n",
    "    # Calculate the current turn\n",
    "    cur_pos = Turn % MaxMeanValues\n",
    "    Turn = Turn + 1\n",
    "\n",
    "    # Calculate a global average for the last (globalAverage) values\n",
    "    if Turn <= MaxMeanValues:\n",
    "        LeftQList.append(left_q)\n",
    "        LeftMList.append(left_m)\n",
    "        RightQList.append(right_q)\n",
    "        RightMList.append(right_m)\n",
    "    else:\n",
    "        LeftQList[cur_pos] = left_q\n",
    "        LeftMList[cur_pos] = left_m\n",
    "        RightQList[cur_pos] = right_q\n",
    "        RightMList[cur_pos] = right_m\n",
    "    left_q = np.mean(LeftQList)\n",
    "    left_m = np.mean(LeftMList)\n",
    "    right_q = np.mean(RightQList)\n",
    "    right_m = np.mean(RightMList)\n",
    "\n",
    "    # Extend the line to the top and to the bottom\n",
    "    bottom = img.shape[0]\n",
    "    top = 320\n",
    "    # Knowing all other parameters we can calculate the missing x for the bottom and the top\n",
    "    x_bottom_left = find_x(bottom, left_q, left_m)\n",
    "    x_top_left = find_x(top, left_q, left_m)\n",
    "    x_bottom_right = find_x(bottom, right_q, right_m)\n",
    "    x_top_right = find_x(top, right_q, right_m)\n",
    "    # Draw both lines\n",
    "    cv2.line(img, (x_bottom_left, bottom), (x_top_left, top), color, thickness)\n",
    "    cv2.line(img, (x_bottom_right, bottom), (x_top_right, top), color, thickness)\n",
    "\n",
    "\n",
    "cap = cv2.VideoCapture('test_videos/solidWhiteRight.mp4')\n",
    "fps = int(cap.get(cv2.CAP_PROP_FPS))\n",
    "w = int(cap.get(cv2.CAP_PROP_FRAME_WIDTH))\n",
    "h = int(cap.get(cv2.CAP_PROP_FRAME_HEIGHT))\n",
    "fourcc = cv2.VideoWriter_fourcc(*'mp4v')\n",
    "out = cv2.VideoWriter('test_videos_output/solidWhiteRight.mp4', fourcc, fps, (w, h), True)\n",
    "\n",
    "while cap.isOpened():\n",
    "    ret, frame = cap.read()\n",
    "\n",
    "    if ret:\n",
    "        gray = cv2.cvtColor(frame, cv2.COLOR_BGR2GRAY)\n",
    "        blur_gray = cv2.GaussianBlur(gray, (5, 5), 0)\n",
    "        edges = cv2.Canny(blur_gray, 50, 150)\n",
    "        imshape = frame.shape\n",
    "        vertices = np.array([[(0, imshape[0]), (430, 340), (540, 340), (imshape[1], imshape[0])]], dtype=np.int32)\n",
    "        cv2.polylines(gray, vertices, True, (255, 255, 255), 5)\n",
    "        masked_edges = region_of_interest(edges, vertices)\n",
    "        lines = cv2.HoughLinesP(masked_edges, 0.5, np.pi / 180, 10, np.array([]), minLineLength=30, maxLineGap=30)\n",
    "        line_img = np.zeros((gray.shape[0], gray.shape[1], 3), dtype=np.uint8)\n",
    "        draw_lines(line_img, lines)\n",
    "        result = cv2.addWeighted(frame, 0.8, line_img, 1.0, 0.0)\n",
    "        out.write(result)\n",
    "    else:\n",
    "        break\n",
    "\n",
    "cap.release()\n",
    "out.release()"
   ]
  },
  {
   "cell_type": "markdown",
   "metadata": {},
   "source": [
    "Play the video inline, or if you prefer find the video in your filesystem (should be in the same directory) and play it in your video player of choice."
   ]
  },
  {
   "cell_type": "code",
   "execution_count": null,
   "metadata": {},
   "outputs": [],
   "source": []
  },
  {
   "cell_type": "markdown",
   "metadata": {},
   "source": [
    "## Improve the draw_lines() function\n",
    "\n",
    "**At this point, if you were successful with making the pipeline and tuning parameters, you probably have the Hough line segments drawn onto the road, but what about identifying the full extent of the lane and marking it clearly as in the example video (P1_example.mp4)?  Think about defining a line to run the full length of the visible lane based on the line segments you identified with the Hough Transform. As mentioned previously, try to average and/or extrapolate the line segments you've detected to map out the full extent of the lane lines. You can see an example of the result you're going for in the video \"P1_example.mp4\".**\n",
    "\n",
    "**Go back and modify your draw_lines function accordingly and try re-running your pipeline. The new output should draw a single, solid line over the left lane line and a single, solid line over the right lane line. The lines should start from the bottom of the image and extend out to the top of the region of interest.**"
   ]
  },
  {
   "cell_type": "markdown",
   "metadata": {},
   "source": [
    "Now for the one with the solid yellow lane on the left. This one's more tricky!"
   ]
  },
  {
   "cell_type": "code",
   "execution_count": 2,
   "metadata": {},
   "outputs": [],
   "source": [
    "import numpy as np\n",
    "import cv2\n",
    "\n",
    "\n",
    "def region_of_interest(img, vertices):\n",
    "    # defining a blank mask to start with\n",
    "    mask = np.zeros_like(img)\n",
    "\n",
    "    # filling pixels inside the polygon defined by \"vertices\" with the fill color\n",
    "    cv2.fillPoly(mask, vertices, 255)\n",
    "\n",
    "    # returning the image only where mask pixels are nonzero\n",
    "    return cv2.bitwise_and(img, mask)\n",
    "\n",
    "\n",
    "def find_x(y, q, m):\n",
    "    return int((y - q) / (m if m != 0 else 1))\n",
    "\n",
    "\n",
    "Turn = 0\n",
    "LeftQList = []\n",
    "LeftMList = []\n",
    "RightQList = []\n",
    "RightMList = []\n",
    "MaxMeanValues = 5\n",
    "\n",
    "\n",
    "def draw_lines(img, lines, color=[255, 0, 0], thickness=5):\n",
    "    global Turn\n",
    "    global LeftQList\n",
    "    global LeftMList\n",
    "    global RightQList\n",
    "    global RightMList\n",
    "\n",
    "    # Find the slopes and a sample point\n",
    "    left_m_list = []\n",
    "    right_m_list = []\n",
    "    left_weights = []\n",
    "    # Knowing y=mx+q we can find q given the sample point and the slope\n",
    "    left_q_list = []\n",
    "    right_q_list = []\n",
    "    right_weights = []\n",
    "    for line in lines:\n",
    "        for x1, y1, x2, y2 in line:\n",
    "            # Left line has positive slope, Right line has negative.\n",
    "            if x2 - x1 != 0:\n",
    "                slope = ((y2 - y1) / (x2 - x1))\n",
    "                if slope > 0:\n",
    "                    left_m_list.append(slope)\n",
    "                    left_q_list.append(y1 - (slope * x1))\n",
    "                    left_weights.append(y2 - y1)\n",
    "                else:\n",
    "                    right_m_list.append(slope)\n",
    "                    right_q_list.append(y1 - (slope * x1))\n",
    "                    right_weights.append(y2 - y1)\n",
    "\n",
    "    # Find the average left and right slope and quote\n",
    "    left_m = np.average(left_m_list, weights=left_weights)\n",
    "    left_q = np.average(left_q_list, weights=left_weights)\n",
    "    right_m = np.average(right_m_list, weights=right_weights)\n",
    "    right_q = np.average(right_q_list, weights=right_weights)\n",
    "\n",
    "    # Calculate the current turn\n",
    "    cur_pos = Turn % MaxMeanValues\n",
    "    Turn = Turn + 1\n",
    "\n",
    "    # Calculate a global average for the last (globalAverage) values\n",
    "    if Turn <= MaxMeanValues:\n",
    "        LeftQList.append(left_q)\n",
    "        LeftMList.append(left_m)\n",
    "        RightQList.append(right_q)\n",
    "        RightMList.append(right_m)\n",
    "    else:\n",
    "        LeftQList[cur_pos] = left_q\n",
    "        LeftMList[cur_pos] = left_m\n",
    "        RightQList[cur_pos] = right_q\n",
    "        RightMList[cur_pos] = right_m\n",
    "    left_q = np.mean(LeftQList)\n",
    "    left_m = np.mean(LeftMList)\n",
    "    right_q = np.mean(RightQList)\n",
    "    right_m = np.mean(RightMList)\n",
    "\n",
    "    # Extend the line to the top and to the bottom\n",
    "    bottom = img.shape[0]\n",
    "    top = 320\n",
    "    # Knowing all other parameters we can calculate the missing x for the bottom and the top\n",
    "    x_bottom_left = find_x(bottom, left_q, left_m)\n",
    "    x_top_left = find_x(top, left_q, left_m)\n",
    "    x_bottom_right = find_x(bottom, right_q, right_m)\n",
    "    x_top_right = find_x(top, right_q, right_m)\n",
    "    # Draw both lines\n",
    "    cv2.line(img, (x_bottom_left, bottom), (x_top_left, top), color, thickness)\n",
    "    cv2.line(img, (x_bottom_right, bottom), (x_top_right, top), color, thickness)\n",
    "\n",
    "\n",
    "cap = cv2.VideoCapture('test_videos/solidYellowLeft.mp4')\n",
    "fps = int(cap.get(cv2.CAP_PROP_FPS))\n",
    "w = int(cap.get(cv2.CAP_PROP_FRAME_WIDTH))\n",
    "h = int(cap.get(cv2.CAP_PROP_FRAME_HEIGHT))\n",
    "fourcc = cv2.VideoWriter_fourcc(*'mp4v')\n",
    "out = cv2.VideoWriter('test_videos_output/solidYellowLeft.mp4', fourcc, fps, (w, h), True)\n",
    "\n",
    "while cap.isOpened():\n",
    "    ret, frame = cap.read()\n",
    "\n",
    "    if ret:\n",
    "        gray = cv2.cvtColor(frame, cv2.COLOR_BGR2GRAY)\n",
    "        blur_gray = cv2.GaussianBlur(gray, (5, 5), 0)\n",
    "        edges = cv2.Canny(blur_gray, 50, 150)\n",
    "        imshape = frame.shape\n",
    "        vertices = np.array([[(0, imshape[0]), (430, 340), (540, 340), (imshape[1], imshape[0])]], dtype=np.int32)\n",
    "        cv2.polylines(gray, vertices, True, (255, 255, 255), 5)\n",
    "        masked_edges = region_of_interest(edges, vertices)\n",
    "        lines = cv2.HoughLinesP(masked_edges, 0.5, np.pi / 180, 10, np.array([]), minLineLength=30, maxLineGap=30)\n",
    "        line_img = np.zeros((gray.shape[0], gray.shape[1], 3), dtype=np.uint8)\n",
    "        draw_lines(line_img, lines)\n",
    "        result = cv2.addWeighted(frame, 0.8, line_img, 1.0, 0.0)\n",
    "        out.write(result)\n",
    "    else:\n",
    "        break\n",
    "\n",
    "cap.release()\n",
    "out.release()"
   ]
  },
  {
   "cell_type": "code",
   "execution_count": 3,
   "metadata": {},
   "outputs": [
    {
     "ename": "NameError",
     "evalue": "name 'HTML' is not defined",
     "output_type": "error",
     "traceback": [
      "\u001b[0;31m---------------------------------------------------------------------------\u001b[0m",
      "\u001b[0;31mNameError\u001b[0m                                 Traceback (most recent call last)",
      "\u001b[0;32m<ipython-input-3-423ea507b33e>\u001b[0m in \u001b[0;36m<module>\u001b[0;34m()\u001b[0m\n\u001b[0;32m----> 1\u001b[0;31m HTML(\"\"\"\n\u001b[0m\u001b[1;32m      2\u001b[0m \u001b[0;34m<\u001b[0m\u001b[0mvideo\u001b[0m \u001b[0mwidth\u001b[0m\u001b[0;34m=\u001b[0m\u001b[0;34m\"960\"\u001b[0m \u001b[0mheight\u001b[0m\u001b[0;34m=\u001b[0m\u001b[0;34m\"540\"\u001b[0m \u001b[0mcontrols\u001b[0m\u001b[0;34m>\u001b[0m\u001b[0;34m\u001b[0m\u001b[0m\n\u001b[1;32m      3\u001b[0m   \u001b[0;34m<\u001b[0m\u001b[0msource\u001b[0m \u001b[0msrc\u001b[0m\u001b[0;34m=\u001b[0m\u001b[0;34m\"{0}\"\u001b[0m\u001b[0;34m>\u001b[0m\u001b[0;34m\u001b[0m\u001b[0m\n\u001b[1;32m      4\u001b[0m \u001b[0;34m<\u001b[0m\u001b[0;34m/\u001b[0m\u001b[0mvideo\u001b[0m\u001b[0;34m>\u001b[0m\u001b[0;34m\u001b[0m\u001b[0m\n\u001b[1;32m      5\u001b[0m \"\"\".format(yellow_output))\n",
      "\u001b[0;31mNameError\u001b[0m: name 'HTML' is not defined"
     ]
    }
   ],
   "source": []
  },
  {
   "cell_type": "markdown",
   "metadata": {},
   "source": [
    "## Writeup and Submission\n",
    "\n",
    "If you're satisfied with your video outputs, it's time to make the report writeup in a pdf or markdown file. Once you have this Ipython notebook ready along with the writeup, it's time to submit for review! Here is a [link](https://github.com/udacity/CarND-LaneLines-P1/blob/master/writeup_template.md) to the writeup template file.\n"
   ]
  },
  {
   "cell_type": "markdown",
   "metadata": {
    "collapsed": true
   },
   "source": [
    "## Optional Challenge\n",
    "\n",
    "Try your lane finding pipeline on the video below.  Does it still work?  Can you figure out a way to make it more robust?  If you're up for the challenge, modify your pipeline so it works with this video and submit it along with the rest of your project!"
   ]
  },
  {
   "cell_type": "code",
   "execution_count": null,
   "metadata": {
    "collapsed": true
   },
   "outputs": [],
   "source": [
    "# Did not work :("
   ]
  },
  {
   "cell_type": "code",
   "execution_count": null,
   "metadata": {
    "collapsed": true
   },
   "outputs": [],
   "source": [
    "HTML(\"\"\"\n",
    "<video width=\"960\" height=\"540\" controls>\n",
    "  <source src=\"{0}\">\n",
    "</video>\n",
    "\"\"\".format(challenge_output))"
   ]
  }
 ],
 "metadata": {
  "anaconda-cloud": {},
  "kernelspec": {
   "display_name": "Python 3",
   "language": "python",
   "name": "python3"
  },
  "language_info": {
   "codemirror_mode": {
    "name": "ipython",
    "version": 3
   },
   "file_extension": ".py",
   "mimetype": "text/x-python",
   "name": "python",
   "nbconvert_exporter": "python",
   "pygments_lexer": "ipython3",
   "version": "3.5.2"
  },
  "widgets": {
   "state": {},
   "version": "1.1.2"
  }
 },
 "nbformat": 4,
 "nbformat_minor": 1
}
